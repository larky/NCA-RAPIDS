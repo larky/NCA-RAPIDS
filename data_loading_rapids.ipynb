{
 "cells": [
  {
   "cell_type": "markdown",
   "id": "3250a698",
   "metadata": {},
   "source": [
    "# RAPIDS Data Processing Lab\n",
    "\n",
    "This notebook demonstrates how to load and process data using RAPIDS cuDF."
   ]
  },
  {
   "cell_type": "code",
   "execution_count": null,
   "id": "07b7f2bd",
   "metadata": {},
   "outputs": [],
   "source": [
    "import cudf\n",
    "import numpy as np\n",
    "import pandas as pd\n",
    "import time\n",
    "\n",
    "# Display library versions\n",
    "print(f\"cuDF version: {cudf.__version__}\")"
   ]
  },
  {
   "cell_type": "code",
   "execution_count": null,
   "id": "d41955d9",
   "metadata": {},
   "outputs": [],
   "source": [
    "# Load a CSV file with cuDF\n",
    "def load_data(file_path):\n",
    "    df = cudf.read_csv(file_path)\n",
    "    return df\n",
    "\n",
    "# Sample dataset (you can replace this with a real CSV file path)\n",
    "data = {\n",
    "    \"id\": [1, 2, 3, 4, 5],\n",
    "    \"name\": [\"Alice\", \"Bob\", \"Charlie\", \"David\", \"Eva\"],\n",
    "    \"age\": [25, 30, 35, 40, None],\n",
    "    \"salary\": [50000, 60000, 75000, 100000, 120000]\n",
    "}\n",
    "pd.DataFrame(data).to_csv(\"sample_data.csv\", index=False)"
   ]
  },
  {
   "cell_type": "code",
   "execution_count": null,
   "id": "3bf0905a",
   "metadata": {},
   "outputs": [],
   "source": [
    "# Load the dataset using RAPIDS cuDF\n",
    "start_time = time.time()\n",
    "df = load_data(\"sample_data.csv\")\n",
    "cuDF_load_time = time.time() - start_time\n",
    "print(\"Loaded Data:\")\n",
    "print(df)\n",
    "print(f\"Data loaded in {cuDF_load_time:.5f} seconds using cuDF.\")"
   ]
  },
  {
   "cell_type": "code",
   "execution_count": null,
   "id": "730e97fe",
   "metadata": {},
   "outputs": [],
   "source": [
    "# Handling missing values\n",
    "start_time = time.time()\n",
    "df[\"age\"].fillna(df[\"age\"].mean(), inplace=True)\n",
    "cuDF_missing_values_time = time.time() - start_time\n",
    "print(\"Data after handling missing values:\")\n",
    "print(df)\n",
    "print(f\"Missing values handled in {cuDF_missing_values_time:.5f} seconds using cuDF.\")"
   ]
  },
  {
   "cell_type": "code",
   "execution_count": null,
   "id": "d98fc6b7",
   "metadata": {},
   "outputs": [],
   "source": [
    "# Filtering and sorting\n",
    "start_time = time.time()\n",
    "df_sorted = df.sort_values(by=\"salary\", ascending=False)\n",
    "cuDF_sort_time = time.time() - start_time\n",
    "print(\"Sorted Data by Salary:\")\n",
    "print(df_sorted)\n",
    "print(f\"Sorting completed in {cuDF_sort_time:.5f} seconds using cuDF.\")"
   ]
  },
  {
   "cell_type": "code",
   "execution_count": null,
   "id": "c62a92cb",
   "metadata": {},
   "outputs": [],
   "source": [
    "# Feature Engineering: Adding a new column\n",
    "start_time = time.time()\n",
    "df[\"income_bracket\"] = cudf.cut(df[\"salary\"], bins=[0, 60000, 100000, np.inf], labels=[\"Low\", \"Medium\", \"High\"])\n",
    "cuDF_feature_engineering_time = time.time() - start_time\n",
    "print(\"Data with Income Bracket:\")\n",
    "print(df)\n",
    "print(f\"Feature engineering completed in {cuDF_feature_engineering_time:.5f} seconds using cuDF.\")"
   ]
  },
  {
   "cell_type": "code",
   "execution_count": null,
   "id": "68d2e81b",
   "metadata": {},
   "outputs": [],
   "source": [
    "# Save processed data\n",
    "start_time = time.time()\n",
    "df.to_csv(\"processed_data.csv\", index=False)\n",
    "cuDF_save_time = time.time() - start_time\n",
    "print(\"Processed data saved to 'processed_data.csv'\")\n",
    "print(f\"Data saving completed in {cuDF_save_time:.5f} seconds using cuDF.\")"
   ]
  },
  {
   "cell_type": "code",
   "execution_count": null,
   "id": "ae817029",
   "metadata": {},
   "outputs": [],
   "source": [
    "# Performance Benchmarking: Comparing RAPIDS cuDF with pandas\n",
    "print(\"\\nPerformance Comparison: cuDF vs Pandas\")\n",
    "\n",
    "# Pandas Data Loading\n",
    "start_time = time.time()\n",
    "pd_df = pd.read_csv(\"sample_data.csv\")\n",
    "pandas_load_time = time.time() - start_time\n",
    "print(f\"Pandas: Data loading time: {pandas_load_time:.5f} seconds\")\n",
    "\n",
    "# Pandas Missing Value Handling (Fixed Chained Assignment Warning)\n",
    "start_time = time.time()\n",
    "pd_df.loc[:, \"age\"] = pd_df[\"age\"].fillna(pd_df[\"age\"].mean())\n",
    "pandas_missing_values_time = time.time() - start_time\n",
    "print(f\"Pandas: Missing values handling time: {pandas_missing_values_time:.5f} seconds\")\n",
    "\n",
    "# Pandas Sorting\n",
    "start_time = time.time()\n",
    "pd_df_sorted = pd_df.sort_values(by=\"salary\", ascending=False)\n",
    "pandas_sort_time = time.time() - start_time\n",
    "print(f\"Pandas: Sorting time: {pandas_sort_time:.5f} seconds\")\n",
    "\n",
    "# Pandas Feature Engineering (Fixed Chained Assignment Warning)\n",
    "start_time = time.time()\n",
    "pd_df.loc[:, \"income_bracket\"] = pd.cut(pd_df[\"salary\"], bins=[0, 60000, 100000, np.inf], labels=[\"Low\", \"Medium\", \"High\"])\n",
    "pandas_feature_engineering_time = time.time() - start_time\n",
    "print(f\"Pandas: Feature engineering time: {pandas_feature_engineering_time:.5f} seconds\")\n",
    "\n",
    "# Pandas Saving Data\n",
    "start_time = time.time()\n",
    "pd_df.to_csv(\"processed_data_pandas.csv\", index=False)\n",
    "pandas_save_time = time.time() - start_time\n",
    "print(f\"Pandas: Data saving time: {pandas_save_time:.5f} seconds\")\n",
    "\n",
    "# Summary Table\n",
    "print(\"\\nSummary of Execution Time (Lower is Better)\")\n",
    "print(f\"{'Operation':<30}{'cuDF (GPU)':<20}{'Pandas (CPU)':<20}\")\n",
    "print(\"-\" * 70)\n",
    "print(f\"{'Data Loading':<30}{cuDF_load_time:.5f} sec    {pandas_load_time:.5f} sec\")\n",
    "print(f\"{'Missing Values Handling':<30}{cuDF_missing_values_time:.5f} sec    {pandas_missing_values_time:.5f} sec\")\n",
    "print(f\"{'Sorting':<30}{cuDF_sort_time:.5f} sec    {pandas_sort_time:.5f} sec\")\n",
    "print(f\"{'Feature Engineering':<30}{cuDF_feature_engineering_time:.5f} sec    {pandas_feature_engineering_time:.5f} sec\")\n",
    "print(f\"{'Data Saving':<30}{cuDF_save_time:.5f} sec    {pandas_save_time:.5f} sec\")\n",
    "\n",
    "print(\"\\nSummary: RAPIDS cuDF speeds up data loading, processing, and transformations significantly compared to pandas, making it ideal for AI workflows handling large datasets.\")"
   ]
  }
 ],
 "metadata": {},
 "nbformat": 4,
 "nbformat_minor": 5
}
