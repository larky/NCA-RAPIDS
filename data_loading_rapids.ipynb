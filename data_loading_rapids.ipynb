{
 "cells": [
  {
   "cell_type": "markdown",
   "id": "8be09ba3",
   "metadata": {},
   "source": [
    "# RAPIDS Data Processing Lab\n",
    "\n",
    "This notebook demonstrates how to load and process data using RAPIDS cuDF."
   ]
  },
  {
   "cell_type": "code",
   "execution_count": null,
   "id": "a2053b6e",
   "metadata": {},
   "outputs": [],
   "source": [
    "import cudf\n",
    "import numpy as np\n",
    "import pandas as pd\n",
    "\n",
    "# Display library versions\n",
    "print(f\"cuDF version: {cudf.__version__}\")"
   ]
  },
  {
   "cell_type": "code",
   "execution_count": null,
   "id": "aec33846",
   "metadata": {},
   "outputs": [],
   "source": [
    "# Load a CSV file with cuDF\n",
    "def load_data(file_path):\n",
    "    df = cudf.read_csv(file_path)\n",
    "    return df\n",
    "\n",
    "# Sample dataset (you can replace this with a real CSV file path)\n",
    "data = {\n",
    "    \"id\": [1, 2, 3, 4, 5],\n",
    "    \"name\": [\"Alice\", \"Bob\", \"Charlie\", \"David\", \"Eva\"],\n",
    "    \"age\": [25, 30, 35, 40, None],\n",
    "    \"salary\": [50000, 60000, 75000, 100000, 120000]\n",
    "}\n",
    "pd.DataFrame(data).to_csv(\"sample_data.csv\", index=False)"
   ]
  },
  {
   "cell_type": "code",
   "execution_count": null,
   "id": "6f59af7f",
   "metadata": {},
   "outputs": [],
   "source": [
    "# Load the dataset using RAPIDS cuDF\n",
    "df = load_data(\"sample_data.csv\")\n",
    "print(\"Loaded Data:\")\n",
    "print(df)"
   ]
  },
  {
   "cell_type": "code",
   "execution_count": null,
   "id": "6eb3c664",
   "metadata": {},
   "outputs": [],
   "source": [
    "# Handling missing values\n",
    "df[\"age\"].fillna(df[\"age\"].mean(), inplace=True)\n",
    "print(\"Data after handling missing values:\")\n",
    "print(df)"
   ]
  },
  {
   "cell_type": "code",
   "execution_count": null,
   "id": "bd2486ad",
   "metadata": {},
   "outputs": [],
   "source": [
    "# Filtering and sorting\n",
    "df_sorted = df.sort_values(by=\"salary\", ascending=False)\n",
    "print(\"Sorted Data by Salary:\")\n",
    "print(df_sorted)"
   ]
  },
  {
   "cell_type": "code",
   "execution_count": null,
   "id": "18759fb2",
   "metadata": {},
   "outputs": [],
   "source": [
    "# Feature Engineering: Adding a new column\n",
    "df[\"income_bracket\"] = cudf.cut(df[\"salary\"], bins=[0, 60000, 100000, np.inf], labels=[\"Low\", \"Medium\", \"High\"])\n",
    "print(\"Data with Income Bracket:\")\n",
    "print(df)"
   ]
  },
  {
   "cell_type": "code",
   "execution_count": null,
   "id": "1259ce9d",
   "metadata": {},
   "outputs": [],
   "source": [
    "# Save processed data\n",
    "df.to_csv(\"processed_data.csv\", index=False)\n",
    "print(\"Processed data saved to 'processed_data.csv'\")"
   ]
  }
 ],
 "metadata": {},
 "nbformat": 4,
 "nbformat_minor": 5
}
