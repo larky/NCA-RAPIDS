{
 "cells": [
  {
   "cell_type": "markdown",
   "id": "6d5241dd",
   "metadata": {},
   "source": [
    "# RAPIDS Data Processing Lab\n",
    "\n",
    "This notebook demonstrates how to load and process data using RAPIDS cuDF."
   ]
  },
  {
   "cell_type": "code",
   "execution_count": null,
   "id": "b0fa4098",
   "metadata": {},
   "outputs": [],
   "source": [
    "import cudf\n",
    "import numpy as np\n",
    "import pandas as pd\n",
    "import time\n",
    "\n",
    "# Display library versions\n",
    "print(f\"cuDF version: {cudf.__version__}\")"
   ]
  },
  {
   "cell_type": "code",
   "execution_count": null,
   "id": "60751406",
   "metadata": {},
   "outputs": [],
   "source": [
    "# Load a CSV file with cuDF\n",
    "def load_data(file_path):\n",
    "    df = cudf.read_csv(file_path)\n",
    "    return df\n",
    "\n",
    "# Sample dataset (you can replace this with a real CSV file path)\n",
    "data = {\n",
    "    \"id\": [1, 2, 3, 4, 5],\n",
    "    \"name\": [\"Alice\", \"Bob\", \"Charlie\", \"David\", \"Eva\"],\n",
    "    \"age\": [25, 30, 35, 40, None],\n",
    "    \"salary\": [50000, 60000, 75000, 100000, 120000]\n",
    "}\n",
    "pd.DataFrame(data).to_csv(\"sample_data.csv\", index=False)"
   ]
  },
  {
   "cell_type": "code",
   "execution_count": null,
   "id": "9f558b1a",
   "metadata": {},
   "outputs": [],
   "source": [
    "# Load the dataset using RAPIDS cuDF\n",
    "start_time = time.time()\n",
    "df = load_data(\"sample_data.csv\")\n",
    "print(\"Loaded Data:\")\n",
    "print(df)\n",
    "print(f\"Data loaded in {time.time() - start_time:.5f} seconds using cuDF.\")"
   ]
  },
  {
   "cell_type": "code",
   "execution_count": null,
   "id": "571471f8",
   "metadata": {},
   "outputs": [],
   "source": [
    "# Handling missing values\n",
    "start_time = time.time()\n",
    "df[\"age\"].fillna(df[\"age\"].mean(), inplace=True)\n",
    "print(\"Data after handling missing values:\")\n",
    "print(df)\n",
    "print(f\"Missing values handled in {time.time() - start_time:.5f} seconds using cuDF.\")"
   ]
  },
  {
   "cell_type": "code",
   "execution_count": null,
   "id": "61c9e510",
   "metadata": {},
   "outputs": [],
   "source": [
    "# Filtering and sorting\n",
    "start_time = time.time()\n",
    "df_sorted = df.sort_values(by=\"salary\", ascending=False)\n",
    "print(\"Sorted Data by Salary:\")\n",
    "print(df_sorted)\n",
    "print(f\"Sorting completed in {time.time() - start_time:.5f} seconds using cuDF.\")"
   ]
  },
  {
   "cell_type": "code",
   "execution_count": null,
   "id": "5710ce11",
   "metadata": {},
   "outputs": [],
   "source": [
    "# Feature Engineering: Adding a new column\n",
    "start_time = time.time()\n",
    "df[\"income_bracket\"] = cudf.cut(df[\"salary\"], bins=[0, 60000, 100000, np.inf], labels=[\"Low\", \"Medium\", \"High\"])\n",
    "print(\"Data with Income Bracket:\")\n",
    "print(df)\n",
    "print(f\"Feature engineering completed in {time.time() - start_time:.5f} seconds using cuDF.\")"
   ]
  },
  {
   "cell_type": "code",
   "execution_count": null,
   "id": "a69f0cdb",
   "metadata": {},
   "outputs": [],
   "source": [
    "# Save processed data\n",
    "start_time = time.time()\n",
    "df.to_csv(\"processed_data.csv\", index=False)\n",
    "print(\"Processed data saved to 'processed_data.csv'\")\n",
    "print(f\"Data saving completed in {time.time() - start_time:.5f} seconds using cuDF.\")"
   ]
  },
  {
   "cell_type": "code",
   "execution_count": null,
   "id": "7924a1f0",
   "metadata": {},
   "outputs": [],
   "source": [
    "# Performance Benchmarking: Comparing RAPIDS cuDF with pandas\n",
    "print(\"\\nPerformance Comparison: cuDF vs Pandas\")\n",
    "\n",
    "# Pandas Data Loading\n",
    "start_time = time.time()\n",
    "pd_df = pd.read_csv(\"sample_data.csv\")\n",
    "print(f\"Pandas: Data loading time: {time.time() - start_time:.5f} seconds\")\n",
    "\n",
    "# Pandas Missing Value Handling (Fixed Chained Assignment Warning)\n",
    "start_time = time.time()\n",
    "pd_df.loc[:, \"age\"] = pd_df[\"age\"].fillna(pd_df[\"age\"].mean())\n",
    "print(f\"Pandas: Missing values handling time: {time.time() - start_time:.5f} seconds\")\n",
    "\n",
    "# Pandas Sorting\n",
    "start_time = time.time()\n",
    "pd_df_sorted = pd_df.sort_values(by=\"salary\", ascending=False)\n",
    "print(f\"Pandas: Sorting time: {time.time() - start_time:.5f} seconds\")\n",
    "\n",
    "# Pandas Feature Engineering (Fixed Chained Assignment Warning)\n",
    "start_time = time.time()\n",
    "pd_df.loc[:, \"income_bracket\"] = pd.cut(pd_df[\"salary\"], bins=[0, 60000, 100000, np.inf], labels=[\"Low\", \"Medium\", \"High\"])\n",
    "print(f\"Pandas: Feature engineering time: {time.time() - start_time:.5f} seconds\")\n",
    "\n",
    "# Pandas Saving Data\n",
    "start_time = time.time()\n",
    "pd_df.to_csv(\"processed_data_pandas.csv\", index=False)\n",
    "print(f\"Pandas: Data saving time: {time.time() - start_time:.5f} seconds\")\n",
    "\n",
    "print(\"\\nSummary: RAPIDS cuDF speeds up data loading, processing, and transformations significantly compared to pandas, making it ideal for AI workflows handling large datasets.\")"
   ]
  }
 ],
 "metadata": {},
 "nbformat": 4,
 "nbformat_minor": 5
}
