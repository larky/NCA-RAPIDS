import cudf
import numpy as np
import pandas as pd
import time

# Display library versions
print(f"cuDF version: {cudf.__version__}")

# Load a CSV file with cuDF
def load_data(file_path):
    df = cudf.read_csv(file_path)
    return df

# Sample dataset (you can replace this with a real CSV file path)
data = {
    "id": [1, 2, 3, 4, 5],
    "name": ["Alice", "Bob", "Charlie", "David", "Eva"],
    "age": [25, 30, 35, 40, None],
    "salary": [50000, 60000, 75000, 100000, 120000]
}
pd.DataFrame(data).to_csv("sample_data.csv", index=False)

# Load the dataset using RAPIDS cuDF
start_time = time.time()
df = load_data("sample_data.csv")
print("Loaded Data:")
print(df)
print(f"Data loaded in {time.time() - start_time:.5f} seconds using cuDF.")

# Handling missing values
start_time = time.time()
df["age"].fillna(df["age"].mean(), inplace=True)
print("Data after handling missing values:")
print(df)
print(f"Missing values handled in {time.time() - start_time:.5f} seconds using cuDF.")

# Filtering and sorting
start_time = time.time()
df_sorted = df.sort_values(by="salary", ascending=False)
print("Sorted Data by Salary:")
print(df_sorted)
print(f"Sorting completed in {time.time() - start_time:.5f} seconds using cuDF.")

# Feature Engineering: Adding a new column
start_time = time.time()
df["income_bracket"] = cudf.cut(df["salary"], bins=[0, 60000, 100000, np.inf], labels=["Low", "Medium", "High"])
print("Data with Income Bracket:")
print(df)
print(f"Feature engineering completed in {time.time() - start_time:.5f} seconds using cuDF.")

# Save processed data
start_time = time.time()
df.to_csv("processed_data.csv", index=False)
print("Processed data saved to 'processed_data.csv'")
print(f"Data saving completed in {time.time() - start_time:.5f} seconds using cuDF.")

# Performance Benchmarking: Comparing RAPIDS cuDF with pandas
print("\nPerformance Comparison: cuDF vs Pandas")
start_time = time.time()
pd_df = pd.read_csv("sample_data.csv")
print(f"Pandas: Data loading time: {time.time() - start_time:.5f} seconds")

start_time = time.time()
pd_df["age"].fillna(pd_df["age"].mean(), inplace=True)
print(f"Pandas: Missing values handling time: {time.time() - start_time:.5f} seconds")

start_time = time.time()
pd_df_sorted = pd_df.sort_values(by="salary", ascending=False)
print(f"Pandas: Sorting time: {time.time() - start_time:.5f} seconds")

start_time = time.time()
pd_df["income_bracket"] = pd.cut(pd_df["salary"], bins=[0, 60000, 100000, np.inf], labels=["Low", "Medium", "High"])
print(f"Pandas: Feature engineering time: {time.time() - start_time:.5f} seconds")

start_time = time.time()
pd_df.to_csv("processed_data_pandas.csv", index=False)
print(f"Pandas: Data saving time: {time.time() - start_time:.5f} seconds")

print("\nSummary: RAPIDS cuDF speeds up data loading, processing, and transformations significantly compared to pandas, making it ideal for AI workflows handling large datasets.")
